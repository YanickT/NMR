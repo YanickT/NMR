{
 "cells": [
  {
   "cell_type": "code",
   "execution_count": 1,
   "outputs": [
    {
     "data": {
      "text/plain": "<Figure size 432x288 with 1 Axes>",
      "image/png": "[encoded data removed]"
     },
     "metadata": {
      "needs_background": "light"
     },
     "output_type": "display_data"
    }
   ],
   "source": [
    "import numpy as np\n",
    "import os\n",
    "import matplotlib.pyplot as plt\n",
    "from scipy.signal import find_peaks\n",
    "from scipy.optimize import curve_fit\n",
    "from main import measure\n",
    "from helper import view, view_phase"
   ],
   "metadata": {
    "collapsed": false,
    "pycharm": {
     "name": "#%%\n"
    }
   }
  },
  {
   "cell_type": "markdown",
   "source": [
    "# Setup\n",
    "## Load the sample"
   ],
   "metadata": {
    "collapsed": false
   }
  },
  {
   "cell_type": "code",
   "execution_count": 2,
   "outputs": [
    {
     "data": {
      "text/plain": "<Figure size 432x288 with 3 Axes>",
      "image/png": "[encoded data removed]"
     },
     "metadata": {
      "needs_background": "light"
     },
     "output_type": "display_data"
    }
   ],
   "source": [
    "sample = np.load(f\"{os.getcwd()}/sample.npy\")\n",
    "view(sample)"
   ],
   "metadata": {
    "collapsed": false,
    "pycharm": {
     "name": "#%%\n"
    }
   }
  },
  {
   "cell_type": "markdown",
   "source": [
    "## Setup magnetic field\n",
    "It is necessary to add some noise to the magnetic field. Otherwise, the magnetic\n",
    "field will be perfectly homogenous, which is unrealistic. Furthermore, is a slight\n",
    "inhomogeneity in the magnetic field necessary for spin echos."
   ],
   "metadata": {
    "collapsed": false
   }
  },
  {
   "cell_type": "code",
   "execution_count": 3,
   "outputs": [],
   "source": [
    "b0 = np.zeros(sample.shape[:2])\n",
    "b0.fill(0.43)\n",
    "b0 += np.random.normal(0, 0.01, b0.shape)"
   ],
   "metadata": {
    "collapsed": false,
    "pycharm": {
     "name": "#%%\n"
    }
   }
  },
  {
   "cell_type": "markdown",
   "source": [
    "Setup phases and measurement time\n",
    "\n",
    "Summation of the waiting time between the $$90^\\circ$$ pulses:\n",
    "$$\\sum_{i=1}^n t_{rec} \\cdot i = t_{rec} \\cdot \\sum_{i=1}^n i = t_{rec} \\cdot \\frac{n^2+n}{2}$$"
   ],
   "metadata": {
    "collapsed": false
   }
  },
  {
   "cell_type": "code",
   "execution_count": null,
   "outputs": [],
   "source": [
    "pause_time = 1000  # ms  Time between the different measurements\n",
    "echo_time = 5  # ms  Has to be smaller than pause_time / 2\n",
    "recovery_time_step = 5  # ms  Time between the 90 degree pulses\n",
    "points = 100\n",
    "tfactor = 2  # how many steps per 1ms\n",
    "\n",
    "t = pause_time * points + recovery_time_step * (points**2 + points) // 2 # ms\n",
    "\n",
    "# phases = [Gradx, Grady, Gradz, Pulse]\n",
    "phases = np.zeros((t * tfactor, 4))\n",
    "time = 0\n",
    "for i in range(points):\n",
    "    phases[tfactor * time, 3] = np.pi / 2  # first 90 degree pulse\n",
    "    time += recovery_time_step * (i + 1)\n",
    "    phases[tfactor * time, 3] = np.pi / 2  # sec 90 degree pulse\n",
    "    phases[tfactor * (time + echo_time), 3] = np.pi\n",
    "    time += pause_time\n",
    "\n",
    "view_phase(phases, tfactor)\n"
   ],
   "metadata": {
    "collapsed": false,
    "pycharm": {
     "name": "#%%\n",
     "is_executing": true
    }
   }
  },
  {
   "cell_type": "markdown",
   "source": [
    "# Measure"
   ],
   "metadata": {
    "collapsed": false
   }
  },
  {
   "cell_type": "code",
   "execution_count": null,
   "outputs": [],
   "source": [
    "ts = np.linspace(0, t, t * tfactor, True)\n",
    "signal = measure(sample, b0, tfactor, phases)\n",
    "\n",
    "plt.plot(ts, signal)\n",
    "plt.show()"
   ],
   "metadata": {
    "collapsed": false,
    "pycharm": {
     "name": "#%%\n",
     "is_executing": true
    }
   }
  },
  {
   "cell_type": "markdown",
   "source": [
    "# Results\n",
    "Fit exponential function to determine t1"
   ],
   "metadata": {
    "collapsed": false,
    "pycharm": {
     "name": "#%% md\n"
    }
   }
  }
 ],
 "metadata": {
  "kernelspec": {
   "display_name": "Python 3",
   "language": "python",
   "name": "python3"
  },
  "language_info": {
   "codemirror_mode": {
    "name": "ipython",
    "version": 2
   },
   "file_extension": ".py",
   "mimetype": "text/x-python",
   "name": "python",
   "nbconvert_exporter": "python",
   "pygments_lexer": "ipython2",
   "version": "2.7.6"
  }
 },
 "nbformat": 4,
 "nbformat_minor": 0
}