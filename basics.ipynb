{
 "cells": [
  {
   "cell_type": "markdown",
   "metadata": {
    "pycharm": {
     "name": "#%% md\n"
    }
   },
   "source": [
    "# Basics\n",
    "In this notebook the basics of NMR are explained using the simulation at main.\n",
    "At first, the whole setup must be done.\n",
    "\n",
    "The use of a simulation ironically creates very contradictory additional difficulties.\n",
    "On the one hand, it limits the accuracy of the measurement.\n",
    "On the other hand, some settings are too precise and have to be altered\n",
    "artificially in order to perform the measurements at all.\n",
    "These difficulties will be explained further in the setup.\n",
    "\n",
    "Another aspect is the accuracy we get.\n",
    "The Larmor frequency can easily be in the magnitude of MHz or $10^6\\,$Hz.\n",
    "Within the simulation we work in ms.\n",
    "Therefore, we need at least 1000 iterations per ms.\n",
    "This is a large number and would cost a lot of time.\n",
    "For some experiments it is not necessary to get the signal that detailed.\n",
    "The `tfactor` is, therefore, chosen for every measurement depending on its needs.\n",
    "Furthermore, GAMMA is reduced of a power of 6 resulting in an Larmor frequency in the 10 Hz regime and thus a tfactor >= 10.\n"
   ]
  },
  {
   "cell_type": "code",
   "execution_count": 1,
   "metadata": {
    "pycharm": {
     "name": "#%%\n"
    }
   },
   "outputs": [],
   "source": [
    "from main import measure, GAMMA\n",
    "from helper import view, view_phase\n",
    "import matplotlib.pyplot as plt\n",
    "import numpy as np\n",
    "import os"
   ]
  },
  {
   "cell_type": "markdown",
   "metadata": {
    "pycharm": {
     "name": "#%% md\n"
    }
   },
   "source": [
    "## Loading the sample\n",
    "At first, we need a sample to use. A sample is already created and saved in sample.npy.\n",
    "It consists of three 2D arrays. Each of these arrays holds another material specific property.\n",
    "This may seem a little awkward since we already know the results we try to measure but since\n",
    "this is a simulation we have to add some \"real\" values to work with.\n",
    "\n",
    "1. Density: The density of spins within this material\n",
    "2. T1: The $T_1$ time of the material\n",
    "3. T2: The $T_2$ time of the material\n",
    "\n",
    "The used sample is a 2D container of oil. With $T_1=114\\,$ms and $T_2=112\\,$ms."
   ]
  },
  {
   "cell_type": "code",
   "execution_count": 2,
   "metadata": {
    "pycharm": {
     "name": "#%%\n"
    }
   },
   "outputs": [
    {
     "data": {
      "image/png": "[encoded data removed]",
      "text/plain": [
       "<Figure size 432x288 with 3 Axes>"
      ]
     },
     "metadata": {
      "needs_background": "light"
     },
     "output_type": "display_data"
    }
   ],
   "source": [
    "sample = np.load(f\"{os.getcwd()}/sample.npy\")\n",
    "view(sample)"
   ]
  },
  {
   "cell_type": "markdown",
   "metadata": {},
   "source": [
    "## Setup the NMR\n",
    "Sources provided for the Lab course see:\n",
    "https://www.physik.uni-wuerzburg.de/studium/master/f-praktikum/info-arbeits-material/ at NMR.\n",
    "The explanations are based on what the tutor wanted to hear.\n",
    "\n",
    "### Larmor precision\n",
    "Classical:\n",
    "Seeing the spin as a current of the rotating particle.\n",
    "\n",
    "Consider the magnetic moment of a single electron in a coil:\n",
    "$$\\mu=I \\cdot A$$\n",
    "where $A$ is the surface of the coil and $I$ the current.\n",
    "Since we only consider an electron (which does not change over time) we get:\n",
    "$$\\mu = \\frac{Q}{T} \\cdot A = \\omega \\frac{Q}{2\\pi}\\cdot r^2\\pi=\\frac{Q}{2m}\\omega r^2 m =\\frac{Q}{2m} L=\\gamma L$$\n",
    "Finally, follows:\n",
    "$$\\frac{d\\vec{L}}{dt} = \\vec{M}=\\vec{\\mu} \\times \\vec{B}=\\gamma \\vec{L}\\times \\vec{B}$$\n",
    "The last line is basically the Bloch equation when relaxation is neglected.\n",
    "Solving the DGL leads to:\n",
    "$$\\vec{\\omega} = \\gamma \\vec{B}$$\n",
    "Which is the Larmor frequency.\n",
    "\n",
    "A little bit QM:\n",
    "\n",
    "The orientation a spin can have in an external magnetic field is either $\\uparrow$ or $\\downarrow$.\n",
    "At the same times holds:\n",
    "$$[l^2, l_z] = 0$$\n",
    "while\n",
    "$$[l_x, l_y] = i\\hbar I_z$$.\n",
    "Using $|l| = \\sqrt{l^2}$ we can thus measure the amplitude as well as the value in one direction.\n",
    "The eigenvalues (for this fermions) are $\\vec{s} = \\pm \\frac{\\hbar}{2}$.\n",
    "This leads to an energetic splitting:\n",
    "![Zeeman effect - Image](figures/basics/zeeman.png)\n",
    "This effect is also known as Zeeman effect.\n",
    "The energetic difference is given by:\n",
    "$$\\Delta E = \\hbar \\gamma B$$\n",
    "Using the energy for a photon $E = \\omega \\hbar$ yields\n",
    "$$\\omega = \\gamma B$$\n",
    "\n",
    "### Spin distribution\n",
    "As both states are allowed both states are used.\n",
    "For the relatively large temperature ($\\approx 300\\,$K) the distribution can be\n",
    "described by the Boltzmann weights:\n",
    "$$\\frac{N_{\\downarrow}}{N_{\\uparrow}} \\approx 1 - \\frac{\\hbar \\omega}{k_B T}$$\n",
    "Leading to a very small shift towards the energetic lower state.\n",
    "But since the amount of spins is high even this slight difference causes a macroscopic\n",
    "signal:\n",
    "$$M = \\frac{d\\mu}{dV} = \\frac{1}{V} \\sum_i^N \\mu_i=\\frac{N \\cdot \\bar{\\mu}}{V}=\\rho \\bar{\\mu}$$\n",
    "\n",
    "### Relaxation\n",
    "Using an additional magnetic field $B_1$ the spins are placed into the xy-plane with\n",
    "$\\vec{B_0} = B_0 \\hat{e}_z$. Here, they create a signal in our coil, which we measure.\n",
    "Afterwards, the spins relax back into the equilibrium state.\n",
    "This leads to 3 different effects\n",
    "\n",
    "**$T_1$-Time**\n",
    "This is the time $\\frac{1}{e}$ of the magnetization in $z$ direction is restored.\n",
    "Since the pulse flips this magnetization into the xy-plane (which we measure) the amplitude\n",
    "we found is proportional to the magnetization in the $z$ direction. This relaxation is caused\n",
    "by lattice-spin interactions.\n",
    "\n",
    "**$T_2$-Time**\n",
    "This is the time $\\frac{1}{e}$ of the magnetization measured in the xy-plane decreases in.\n",
    "This relaxation is caused by spin-spin interactions. It causes the amplitude measured after the\n",
    "pulse to decrease. This decrease is called free induction decay or FID for short.\n",
    "\n",
    "Both times are material specific properties and $T_2 \\leq 2T_1$ hold\n",
    "\n",
    "\n",
    "**$T_2'$-Time**\n",
    "The last effect is caused by inhomogeneities of the magnetic field.\n",
    "This leads to slightly different $\\omega$ and thus to a dephasing over time.\n",
    "It is the fastest of all three effects.\n",
    "\n",
    "### Further simulation properties\n",
    "We need a magnetic field as well as a time factor.\n",
    "The time factor is related to the sample frequency.\n",
    "It describes how many samples we take per ms."
   ]
  },
  {
   "cell_type": "code",
   "execution_count": 3,
   "metadata": {
    "pycharm": {
     "name": "#%%\n"
    }
   },
   "outputs": [],
   "source": [
    "tfactor = 40\n",
    "\n",
    "b0_homo = np.zeros(sample.shape[:2])\n",
    "b0_homo.fill(0.43)\n",
    "b0 = b0_homo + np.random.normal(0, 1e-3, b0_homo.shape)\n",
    "\n",
    "f_larmor = GAMMA * 0.43"
   ]
  },
  {
   "cell_type": "markdown",
   "metadata": {},
   "source": [
    "This is where a limitation comes into account. Later we will use spin-echos\n",
    "for the measurement. These echos depend on a dephasing of the spins due to\n",
    "inhomogeneities of the applied magnetic field. Due to the computer we are able to\n",
    "apply a perfectly homogeneous magnetic field. But since we want it to be\n",
    "inhomogeneous at some point we add some random noise using the normal distribution.\n",
    "The effect of this inhomogeneity can be shown easily."
   ]
  },
  {
   "cell_type": "code",
   "execution_count": 4,
   "metadata": {
    "pycharm": {
     "name": "#%%\n"
    }
   },
   "outputs": [
    {
     "data": {
      "image/png": "[encoded data removed]",
      "text/plain": [
       "<Figure size 432x288 with 1 Axes>"
      ]
     },
     "metadata": {
      "needs_background": "light"
     },
     "output_type": "display_data"
    }
   ],
   "source": [
    "# setup measurement phase\n",
    "t = 400 # ms\n",
    "ts = np.linspace(0, t, t * tfactor, True)  # get times of the sample frequency\n",
    "phases = np.zeros((t * tfactor, 4))\n",
    "phases[0, 3] = np.pi / 2  # 90 pulse\n",
    "\n",
    "sig_homo = np.real(measure(sample, b0_homo, tfactor, phases, f_larmor))\n",
    "sig_inhomo = np.real(measure(sample, b0, tfactor, phases, f_larmor))\n",
    "\n",
    "plt.plot(ts, sig_homo, label=\"homo\")\n",
    "plt.plot(ts, sig_inhomo, label=\"inhomo\")\n",
    "plt.grid()\n",
    "plt.legend()\n",
    "plt.show()"
   ]
  },
  {
   "cell_type": "markdown",
   "metadata": {},
   "source": [
    "As can be decreases the inhomogeneous more rapidly.\n",
    "The Larmor frequency depends on the magnetic field.\n",
    "Since this field varies, the spins have different frequencies and dephase.\n",
    "![Short gif how the spins dephase](figures/basics/dephasing.gif)\n",
    "- decreasing amplitude"
   ]
  },
  {
   "cell_type": "markdown",
   "metadata": {},
   "source": [
    "## Phases\n",
    "- puls\n",
    "- gradienten\n",
    "### Spin-echo sequence\n",
    "Now we will modify the above example to get some spin echos."
   ]
  },
  {
   "cell_type": "code",
   "execution_count": 5,
   "metadata": {
    "pycharm": {
     "name": "#%%\n"
    }
   },
   "outputs": [
    {
     "data": {
      "image/png": "[encoded data removed]",
      "text/plain": [
       "<Figure size 432x288 with 1 Axes>"
      ]
     },
     "metadata": {
      "needs_background": "light"
     },
     "output_type": "display_data"
    }
   ],
   "source": [
    "t = 400 # ms\n",
    "ts = np.linspace(0, t, t * tfactor, True)  # get times of the sample frequency\n",
    "phases = np.zeros((t * tfactor, 4))\n",
    "phases[0, 3] = np.pi / 2  # 90 pulse\n",
    "phases[tfactor * 50, 3] = np.pi\n",
    "phases[tfactor * 150, 3] = np.pi\n",
    "phases[tfactor * 250, 3] = np.pi\n",
    "phases[tfactor * 350, 3] = np.pi\n",
    "\n",
    "sig_homo = np.real(measure(sample, b0_homo, tfactor, phases, f_larmor))\n",
    "sig_inhomo = np.real(measure(sample, b0, tfactor, phases, f_larmor))\n",
    "\n",
    "plt.plot(ts, sig_homo, label=\"homo\")\n",
    "plt.plot(ts, sig_inhomo, label=\"inhomo\")\n",
    "plt.grid()\n",
    "plt.legend()\n",
    "plt.show()"
   ]
  },
  {
   "cell_type": "markdown",
   "metadata": {},
   "source": [
    "Again looking at the spins this looks as follows:\n",
    "![Short gif how the spins dephase and rephase](figures/basics/spin_echo.gif)"
   ]
  }
 ],
 "metadata": {
  "kernelspec": {
   "display_name": "Python 3 (ipykernel)",
   "language": "python",
   "name": "python3"
  },
  "language_info": {
   "codemirror_mode": {
    "name": "ipython",
    "version": 3
   },
   "file_extension": ".py",
   "mimetype": "text/x-python",
   "name": "python",
   "nbconvert_exporter": "python",
   "pygments_lexer": "ipython3",
   "version": "3.9.1"
  }
 },
 "nbformat": 4,
 "nbformat_minor": 1
}
